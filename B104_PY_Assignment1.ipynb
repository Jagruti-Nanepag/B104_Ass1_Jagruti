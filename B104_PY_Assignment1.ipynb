{
 "cells": [
  {
   "cell_type": "markdown",
   "id": "8d777df8-3541-4fee-abe9-5f8df3625a94",
   "metadata": {},
   "source": [
    "#### Exercises"
   ]
  },
  {
   "cell_type": "markdown",
   "id": "0f381238-bcce-4ea5-bdab-fbbe5d012749",
   "metadata": {},
   "source": [
    "#### Q1 What is 7 to the power of 4?\n"
   ]
  },
  {
   "cell_type": "code",
   "execution_count": 138,
   "id": "0764a93d-4444-4235-8e8e-d04ad4f76532",
   "metadata": {},
   "outputs": [
    {
     "data": {
      "text/plain": [
       "2401"
      ]
     },
     "execution_count": 138,
     "metadata": {},
     "output_type": "execute_result"
    }
   ],
   "source": [
    "7**4"
   ]
  },
  {
   "cell_type": "markdown",
   "id": "91a729ae-6a74-4a8a-8a53-b6017ca649a8",
   "metadata": {},
   "source": [
    "#### Q2 Split this string:s = \"Hi there Yogesh!\"?"
   ]
  },
  {
   "cell_type": "code",
   "execution_count": 4,
   "id": "b86d01ad-8a44-48b9-95ba-9cc3a4fbf2e8",
   "metadata": {},
   "outputs": [
    {
     "data": {
      "text/plain": [
       "['Hi', 'there', 'Yogesh!']"
      ]
     },
     "execution_count": 4,
     "metadata": {},
     "output_type": "execute_result"
    }
   ],
   "source": [
    "s = \"Hi there Yogesh!\"\n",
    "s1=s.split()\n",
    "s1"
   ]
  },
  {
   "cell_type": "markdown",
   "id": "a4deba49-46fd-4495-87ea-a098ed272f19",
   "metadata": {},
   "source": [
    "#### Given the variables:\n",
    "##### planet = \"Earth\"\n",
    "##### diameter = 12742\n",
    "##### Use .format() to print the following string: **"
   ]
  },
  {
   "cell_type": "code",
   "execution_count": 146,
   "id": "79813e6b-b7c3-4dd9-b471-a1a304f6d472",
   "metadata": {},
   "outputs": [
    {
     "name": "stdout",
     "output_type": "stream",
     "text": [
      "The diameter of Earth is 12742 Kilometers\n",
      "The diameter of Earth is 12742 Kilometers\n"
     ]
    }
   ],
   "source": [
    "planet = \"Earth\"\n",
    "diameter = 12742\n",
    "result = \"The diameter of {0} is {1} Kilometers\".format(planet,diameter)\n",
    "print(result)\n",
    "print(f\"The diameter of {planet} is {diameter} Kilometers\")"
   ]
  },
  {
   "cell_type": "markdown",
   "id": "4e6f9047-a831-42a3-b029-b44f6034a62d",
   "metadata": {},
   "source": [
    "#### Q4 Given this nested list, use indexing to grab the word \"hello"
   ]
  },
  {
   "cell_type": "code",
   "execution_count": 149,
   "id": "ac7854fa-db5e-460c-a60d-c3e792a0f1ee",
   "metadata": {},
   "outputs": [
    {
     "name": "stdout",
     "output_type": "stream",
     "text": [
      "hello\n"
     ]
    }
   ],
   "source": [
    "lst=[1,2,[3,4],[5,[100,200,['hello']],23,11],1,7]\n",
    "print(lst[3][1][2][0])"
   ]
  },
  {
   "cell_type": "markdown",
   "id": "56620166-4bae-49bc-9f4d-052745cc2106",
   "metadata": {},
   "source": [
    "#### Q5 What is the main difference between a tuple and a list?\n",
    "##### ans: list is mutable and tuple immutable"
   ]
  },
  {
   "cell_type": "markdown",
   "id": "fecba7f0-998e-42ec-ba3e-01d921e0d32a",
   "metadata": {},
   "source": [
    "#### Create a function that grabs the email website domain from a string in the form: \n",
    "##### So for example, passing \"user@domain.com\" would return: domain.com"
   ]
  },
  {
   "cell_type": "code",
   "execution_count": 151,
   "id": "6a61d40a-9e79-48ca-a6d5-2e81f563b510",
   "metadata": {},
   "outputs": [
    {
     "data": {
      "text/plain": [
       "'domain.com'"
      ]
     },
     "execution_count": 151,
     "metadata": {},
     "output_type": "execute_result"
    }
   ],
   "source": [
    "def domain(email):\n",
    "    new=mail.split(\"@\")\n",
    "    return new[-1]\n",
    "mail=\"user@domain.com\"\n",
    "domain(mail)"
   ]
  },
  {
   "cell_type": "markdown",
   "id": "c7853b80-65a9-4363-ab54-4044e497cf2e",
   "metadata": {},
   "source": [
    "##### Q6 Create a basic function that returns True if the word 'dog' is contained in the input string. Don't worry about edge cases like a punctuation\n",
    "##### being attached to the word dog, but do account for capitalization"
   ]
  },
  {
   "cell_type": "code",
   "execution_count": 165,
   "id": "b11e7afb-37d7-4254-8475-b71a1129ca1c",
   "metadata": {},
   "outputs": [
    {
     "data": {
      "text/plain": [
       "True"
      ]
     },
     "execution_count": 165,
     "metadata": {},
     "output_type": "execute_result"
    }
   ],
   "source": [
    "def findDog(w):\n",
    "    return 'dog' in  w.lower().split()   \n",
    "findDog('Is there dog or DOG a here?')   "
   ]
  },
  {
   "cell_type": "markdown",
   "id": "ccdab613-3b08-492e-8e34-286406b78b97",
   "metadata": {},
   "source": [
    "####  Q7 Create a function that counts the  number of times the word \"dog\" occurs in a string. Again ignore edge cases. "
   ]
  },
  {
   "cell_type": "code",
   "execution_count": 175,
   "id": "a8c9e122-adae-4616-9bee-fb3fcabc4f4c",
   "metadata": {},
   "outputs": [
    {
     "name": "stdout",
     "output_type": "stream",
     "text": [
      "sog dog hat dog:- The no. of dog in string is: 2\n"
     ]
    }
   ],
   "source": [
    "\n",
    "def count_ch_dog(word):\n",
    "    c=0\n",
    "    for i in word.lower().split(): \n",
    "        print(i,end=' ')\n",
    "        if 'dog' in  i:\n",
    "            c=c+1\n",
    "    print(\"The no. of dog in string is:\",c)\n",
    "count_ch_dog(\" sog dog hat dog:-\")"
   ]
  },
  {
   "cell_type": "markdown",
   "id": "51a2ac39-e39c-45e0-8e1b-238a5cd5b432",
   "metadata": {},
   "source": [
    "#### Q8 Use lambda expressions and the filter() function to filter out words from a list that don't start with the letter 's'. For example:"
   ]
  },
  {
   "cell_type": "code",
   "execution_count": 70,
   "id": "1520b98b-7ab4-45e0-8455-3ef1cff5efeb",
   "metadata": {},
   "outputs": [
    {
     "data": {
      "text/plain": [
       "['dog', 'cat', 'great']"
      ]
     },
     "execution_count": 70,
     "metadata": {},
     "output_type": "execute_result"
    }
   ],
   "source": [
    "\n",
    "seq = ['soup','dog','salad','cat','great']\n",
    "new_list=list(filter(lambda x: x[0] != 's',seq))\n",
    "new_list"
   ]
  },
  {
   "cell_type": "markdown",
   "id": "0e647e6b-97a4-4b47-80c8-28d90a8c337e",
   "metadata": {},
   "source": [
    "#####  Q9 You are driving a little too fast, and a police officer stops you. Write a function to return one of 3 possible results: \"No ticket\", \"Small ticket\", or \"Big Ticket\". If your speed is 60 or less, the result is \"No Ticket\". If speed is between 61 and 80 inclusive, the result is \"Small Ticket\". If speed is 81 or more, the result is \"Big Ticket\". Unless it is your birthday (encoded as a boolean value in the parameters of the function on your birthday your speed can be 5 higher in all cases. "
   ]
  },
  {
   "cell_type": "code",
   "execution_count": 185,
   "id": "4ad1e423-8af8-4797-a14c-96967283bfc9",
   "metadata": {},
   "outputs": [
    {
     "name": "stdin",
     "output_type": "stream",
     "text": [
      "enter speed: 87\n",
      "Is today is your Birthday('yes' or 'no'): yes\n"
     ]
    },
    {
     "name": "stdout",
     "output_type": "stream",
     "text": [
      "BiG Ticket\n"
     ]
    }
   ],
   "source": [
    "\n",
    "def drive(speed,birth):\n",
    "    if birth==\"true\":\n",
    "        new_speed=speed-5\n",
    "    else:\n",
    "        new_speed=speed\n",
    "        if speed <= 60:\n",
    "            print(\"NO Ticket\")\n",
    "        elif  61 <= speed <= 80:\n",
    "            print(\"Small Ticket\")\n",
    "        else:\n",
    "            print(\"BiG Ticket\")\n",
    "\n",
    "speed=int(input(\"enter speed:\"))\n",
    "birth= input(\"Is today is your Birthday('yes' or 'no'):\")\n",
    "drive(speed,birth)\n",
    "   "
   ]
  },
  {
   "cell_type": "markdown",
   "id": "02818847-0b55-45f0-a549-a20e1a0c4cde",
   "metadata": {},
   "source": [
    "##### Q10 Given a string print number num by extracting all the digits from the string as in string Print negative number if the first character in string is '-' eg. -123abcd should return -123,abcd456-->456,fdhfh78dsd89--->7889,-56dssd78-->-5678"
   ]
  },
  {
   "cell_type": "code",
   "execution_count": 1,
   "id": "3c1760c2-6e10-4282-9517-c19d63cc56a0",
   "metadata": {},
   "outputs": [
    {
     "name": "stdin",
     "output_type": "stream",
     "text": [
      "enter the no jgh6887\n"
     ]
    },
    {
     "name": "stdout",
     "output_type": "stream",
     "text": [
      "6887\n"
     ]
    }
   ],
   "source": [
    "\n",
    "digit=input(\"enter the no\")\n",
    "new =''\n",
    "if digit[0]=='-':\n",
    "    new+=digit[0]\n",
    "for i in digit:\n",
    "    if i.isdigit():\n",
    "        new+=i\n",
    "print(new)"
   ]
  },
  {
   "cell_type": "markdown",
   "id": "8537a7e3-08e7-42c9-b338-64737fd5c859",
   "metadata": {},
   "source": [
    "#### Q11. WAP to check whether a number is palindrome or not on following conditions.\n",
    "##### 1. take input number\n",
    "##### 2. add number and its reverse\n",
    "##### 3. check that number is palindrome or not,if not then sum and its reverse "
   ]
  },
  {
   "cell_type": "code",
   "execution_count": 177,
   "id": "2c662ca2-d4ba-41bd-9e52-5f4087e3cd15",
   "metadata": {},
   "outputs": [
    {
     "name": "stdin",
     "output_type": "stream",
     "text": [
      "Enter the charachar: 88\n"
     ]
    },
    {
     "name": "stdout",
     "output_type": "stream",
     "text": [
      "176\n",
      "number 847\n",
      "reservers 748\n",
      "number 1595\n",
      "reservers 5951\n",
      "number 7546\n",
      "reservers 6457\n",
      "number 14003\n",
      "reservers 30041\n",
      "number 44044\n",
      "reservers 44044\n",
      "its palindrome 44044\n"
     ]
    }
   ],
   "source": [
    "   \n",
    "num = input(\"Enter the charachar:\")\n",
    "# print(type(num))\n",
    "num1 =  int(num[::-1])\n",
    "# print(type(num1))\n",
    "# print(type(num))\n",
    "add=str(int(num)+num1)\n",
    "print(add)\n",
    "# num3 = str(add)\n",
    "# # print(type(num3))\n",
    "type(add)\n",
    "while add != add[::-1]:\n",
    "    add = str(int(add) + int(add[::-1]))\n",
    "    print(\"number\",add)\n",
    "    print(\"reservers\",add[::-1])\n",
    "print(\"its palindrome\",add)"
   ]
  },
  {
   "cell_type": "markdown",
   "id": "d35d7918-9f01-41ca-b03e-a6c35e12afe2",
   "metadata": {},
   "source": [
    "#### Q13 Write a python function to find and display the five digit number in which the first digit is two more than the second,the second digit is two more than the third,the fourth digit is two less than the third, and the last digit is two more thanthe fourth.The sum of the third,fourth and fifth digits equals the first.The sum of all the digits is 19\n"
   ]
  },
  {
   "cell_type": "code",
   "execution_count": 134,
   "id": "154e3e57-243e-41d8-a47f-46a3a7541272",
   "metadata": {},
   "outputs": [
    {
     "data": {
      "text/plain": [
       "'the five digit numbers is: 13 11 9 7 9'"
      ]
     },
     "execution_count": 134,
     "metadata": {},
     "output_type": "execute_result"
    }
   ],
   "source": [
    "# a = 2+b\n",
    "# b =2+c\n",
    "# c=?\n",
    "# d=2-c\n",
    "# e=2+d\n",
    "# c+d+e = a\n",
    "# a+b+c+d+e=19\n",
    "def find_five_digit():\n",
    "    for c in range(0,10):\n",
    "        # print(i)\n",
    "        b = c + 2\n",
    "        a = b + 2\n",
    "        d = c - 2\n",
    "        e = d + 2\n",
    "    for char in [a,b,c,d,e]:\n",
    "        if (0<= char <= 9) :\n",
    "            return f\"the five digit numbers is: {a} {b} {c} {d} {e}\"  \n",
    "            # if c + d + e ==a and a + b + c + d + e ==19:\n",
    "                # return f\"the five digit numbers is: {a} {b} {c} {d} {e}\"  \n",
    "                \n",
    "find_five_digit()        \n",
    "        \n",
    "    "
   ]
  },
  {
   "cell_type": "code",
   "execution_count": null,
   "id": "f2cdaf56-ab3b-4f4a-8372-ad857b45c0f6",
   "metadata": {},
   "outputs": [],
   "source": [
    "\n"
   ]
  },
  {
   "cell_type": "code",
   "execution_count": null,
   "id": "895a12e6-1aca-45a8-ab1c-8bb980ee1afb",
   "metadata": {},
   "outputs": [],
   "source": []
  }
 ],
 "metadata": {
  "kernelspec": {
   "display_name": "Python 3 (ipykernel)",
   "language": "python",
   "name": "python3"
  },
  "language_info": {
   "codemirror_mode": {
    "name": "ipython",
    "version": 3
   },
   "file_extension": ".py",
   "mimetype": "text/x-python",
   "name": "python",
   "nbconvert_exporter": "python",
   "pygments_lexer": "ipython3",
   "version": "3.12.4"
  }
 },
 "nbformat": 4,
 "nbformat_minor": 5
}
